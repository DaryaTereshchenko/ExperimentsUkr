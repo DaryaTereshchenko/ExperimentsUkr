{
  "nbformat": 4,
  "nbformat_minor": 0,
  "metadata": {
    "colab": {
      "provenance": [],
      "mount_file_id": "1mhuElOgZPWdVnu5WLeeJLUr3IRV0IDuH",
      "authorship_tag": "ABX9TyPRkb92J6XMJ/0jt8sOq8pZ",
      "include_colab_link": true
    },
    "kernelspec": {
      "name": "python3",
      "display_name": "Python 3"
    },
    "language_info": {
      "name": "python"
    }
  },
  "cells": [
    {
      "cell_type": "markdown",
      "metadata": {
        "id": "view-in-github",
        "colab_type": "text"
      },
      "source": [
        "<a href=\"https://colab.research.google.com/github/DaryaTereshchenko/ExperimentsUkr/blob/main/MultinomialNB.ipynb\" target=\"_parent\"><img src=\"https://colab.research.google.com/assets/colab-badge.svg\" alt=\"Open In Colab\"/></a>"
      ]
    },
    {
      "cell_type": "code",
      "execution_count": null,
      "metadata": {
        "id": "p5B998UNrFLr"
      },
      "outputs": [],
      "source": [
        "from sklearn.naive_bayes import MultinomialNB\n",
        "from sklearn.feature_extraction.text import CountVectorizer\n",
        "from sklearn.feature_extraction.text import TfidfVectorizer\n",
        "from sklearn.model_selection import train_test_split\n",
        "from sklearn.metrics import accuracy_score\n",
        "from sklearn.metrics import classification_report\n",
        "from sklearn.metrics import f1_score\n",
        "import matplotlib.pyplot as plt\n",
        "from sklearn.metrics import ConfusionMatrixDisplay, confusion_matrix\n",
        "from sklearn.pipeline import make_pipeline\n",
        "import pandas as pd\n",
        "import numpy as np"
      ]
    },
    {
      "cell_type": "code",
      "source": [
        "def plot(y_true, y_pred, labels=None, title=\"\", cmap=plt.cm.Blues):\n",
        "    con_mat_df = confusion_matrix(y_true, y_pred)\n",
        "    con_mat_df = con_mat_df.astype('float') / con_mat_df.sum(axis=1)[:, np.newaxis]\n",
        "    disp = ConfusionMatrixDisplay(confusion_matrix=con_mat_df, display_labels=labels)\n",
        "    disp.plot(cmap=cmap)\n",
        "    plt.title(title)"
      ],
      "metadata": {
        "id": "o0jhRjFTxOi3"
      },
      "execution_count": null,
      "outputs": []
    },
    {
      "cell_type": "code",
      "source": [
        "df = pd.read_csv(\"/content/drive/MyDrive/AnnotatedFull.csv\")\n"
      ],
      "metadata": {
        "id": "4d9XzMZysivL"
      },
      "execution_count": null,
      "outputs": []
    },
    {
      "cell_type": "markdown",
      "source": [
        "Models Multinomial"
      ],
      "metadata": {
        "id": "OqvmJTzx0U4o"
      }
    },
    {
      "cell_type": "code",
      "source": [
        "X = df.tweet\n",
        "y = df.label"
      ],
      "metadata": {
        "id": "z_aCxuy_2AHE"
      },
      "execution_count": null,
      "outputs": []
    },
    {
      "cell_type": "code",
      "source": [
        "X_train, X_test, y_train, y_test = train_test_split(X,y,\n",
        "                                   random_state=42, \n",
        "                                   test_size=0.3, \n",
        "                                   shuffle=True)"
      ],
      "metadata": {
        "id": "cM9rph642Fnp"
      },
      "execution_count": null,
      "outputs": []
    },
    {
      "cell_type": "code",
      "source": [
        "model1 = make_pipeline(TfidfVectorizer(), MultinomialNB())\n",
        "model2 = make_pipeline(CountVectorizer(), MultinomialNB())"
      ],
      "metadata": {
        "id": "l6IZAodnu-_q"
      },
      "execution_count": null,
      "outputs": []
    },
    {
      "cell_type": "code",
      "source": [
        "model1.fit(X_train, y_train)\n",
        "y_pred_model1 = model1.predict(X_test)\n",
        "\n",
        "model2.fit(X_train, y_train)\n",
        "y_pred_model2 = model2.predict(X_test)"
      ],
      "metadata": {
        "id": "MCm8-oFo3FU-"
      },
      "execution_count": null,
      "outputs": []
    },
    {
      "cell_type": "markdown",
      "source": [
        "Evaluation"
      ],
      "metadata": {
        "id": "TEZmFMHm3xia"
      }
    },
    {
      "cell_type": "code",
      "source": [
        "print('Accuracy:', accuracy_score(y_test, y_pred_m3))\n",
        "print('F1 score:', f1_score(y_test, y_pred_m3, average=\"macro\"))\n",
        "print(classification_report(y_test, y_pred_m3))"
      ],
      "metadata": {
        "id": "Ca5uxWLCvkux"
      },
      "execution_count": null,
      "outputs": []
    },
    {
      "cell_type": "code",
      "source": [
        "plot(y_test, y_pred_model1, labels=[\"neutral\", \"offensive\"], title=\"MultinomialNB TF-IDF\")"
      ],
      "metadata": {
        "colab": {
          "base_uri": "https://localhost:8080/",
          "height": 472
        },
        "id": "aXfGL2vjvqh8",
        "outputId": "3b68d47b-9b39-4060-c502-ae3c62160d96"
      },
      "execution_count": null,
      "outputs": [
        {
          "output_type": "display_data",
          "data": {
            "text/plain": [
              "<Figure size 640x480 with 2 Axes>"
            ],
            "image/png": "[encoded data removed]"
          },
          "metadata": {}
        }
      ]
    },
    {
      "cell_type": "code",
      "source": [],
      "metadata": {
        "id": "m1MYY0oCxvyx"
      },
      "execution_count": null,
      "outputs": []
    }
  ]
}