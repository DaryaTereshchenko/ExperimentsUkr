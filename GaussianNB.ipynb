{
  "nbformat": 4,
  "nbformat_minor": 0,
  "metadata": {
    "colab": {
      "provenance": [],
      "mount_file_id": "1hQj_RpI_jah9n2XKUkxkTSqiE1lM8t-P",
      "authorship_tag": "ABX9TyM1nFBlnTtj8CRi+KYJllx+",
      "include_colab_link": true
    },
    "kernelspec": {
      "name": "python3",
      "display_name": "Python 3"
    },
    "language_info": {
      "name": "python"
    }
  },
  "cells": [
    {
      "cell_type": "markdown",
      "metadata": {
        "id": "view-in-github",
        "colab_type": "text"
      },
      "source": [
        "<a href=\"https://colab.research.google.com/github/DaryaTereshchenko/ExperimentsUkr/blob/main/GaussianNB.ipynb\" target=\"_parent\"><img src=\"https://colab.research.google.com/assets/colab-badge.svg\" alt=\"Open In Colab\"/></a>"
      ]
    },
    {
      "cell_type": "code",
      "execution_count": 1,
      "metadata": {
        "id": "p5B998UNrFLr"
      },
      "outputs": [],
      "source": [
        "from sklearn.naive_bayes import GaussianNB\n",
        "from sklearn.feature_extraction.text import CountVectorizer\n",
        "from sklearn.feature_extraction.text import TfidfVectorizer\n",
        "from sklearn.model_selection import train_test_split\n",
        "from sklearn.metrics import accuracy_score\n",
        "from sklearn.metrics import classification_report\n",
        "from sklearn.metrics import f1_score\n",
        "import matplotlib.pyplot as plt\n",
        "from sklearn.metrics import ConfusionMatrixDisplay, confusion_matrix\n",
        "from sklearn.pipeline import make_pipeline\n",
        "import pandas as pd\n",
        "import numpy as np"
      ]
    },
    {
      "cell_type": "code",
      "source": [
        "def plot(y_true, y_pred, labels=None, title=\"\", cmap=plt.cm.Blues):\n",
        "    con_mat_df = confusion_matrix(y_true, y_pred)\n",
        "    con_mat_df = con_mat_df.astype('float') / con_mat_df.sum(axis=1)[:, np.newaxis]\n",
        "    disp = ConfusionMatrixDisplay(confusion_matrix=con_mat_df, display_labels=labels)\n",
        "    disp.plot(cmap=cmap)\n",
        "    plt.title(title)"
      ],
      "metadata": {
        "id": "o0jhRjFTxOi3"
      },
      "execution_count": 2,
      "outputs": []
    },
    {
      "cell_type": "code",
      "source": [
        "df = pd.read_csv(\"/content/drive/MyDrive/AnnotatedFull.csv\")\n"
      ],
      "metadata": {
        "id": "4d9XzMZysivL"
      },
      "execution_count": 3,
      "outputs": []
    },
    {
      "cell_type": "markdown",
      "source": [
        "Models GaussianNB"
      ],
      "metadata": {
        "id": "OqvmJTzx0U4o"
      }
    },
    {
      "cell_type": "code",
      "source": [
        "count_vec = CountVectorizer()\n",
        "bow = count_vec.fit_transform(df['tweet'])\n",
        "bow = np.array(bow.todense())"
      ],
      "metadata": {
        "id": "3DX1KwdR-BhP"
      },
      "execution_count": 13,
      "outputs": []
    },
    {
      "cell_type": "code",
      "source": [
        "vec = TfidfVectorizer()\n",
        "tf_idf = vec.fit_transform(df['tweet'])\n",
        "tf_idf = np.array(tf_idf.todense())"
      ],
      "metadata": {
        "id": "ra6atNQE_OPn"
      },
      "execution_count": 16,
      "outputs": []
    },
    {
      "cell_type": "markdown",
      "source": [
        "Train model"
      ],
      "metadata": {
        "id": "7mtWdhYJ_nhh"
      }
    },
    {
      "cell_type": "code",
      "source": [
        "X = tf_idf\n",
        "y = df.label"
      ],
      "metadata": {
        "id": "z_aCxuy_2AHE"
      },
      "execution_count": 17,
      "outputs": []
    },
    {
      "cell_type": "code",
      "source": [
        "X_train, X_test, y_train, y_test = train_test_split(X,y,\n",
        "                                   random_state=42, \n",
        "                                   test_size=0.3, \n",
        "                                   shuffle=True)"
      ],
      "metadata": {
        "id": "cM9rph642Fnp"
      },
      "execution_count": 18,
      "outputs": []
    },
    {
      "cell_type": "code",
      "source": [
        "model1 = GaussianNB().fit(X_train, y_train)\n",
        "y_pred_model1 = model1.predict(X_test)"
      ],
      "metadata": {
        "id": "l6IZAodnu-_q"
      },
      "execution_count": 7,
      "outputs": []
    },
    {
      "cell_type": "code",
      "source": [
        "model2 = GaussianNB().fit(X_train, y_train)\n",
        "y_pred_model2 = model2.predict(X_test)"
      ],
      "metadata": {
        "id": "ZJ1wBIpt_quw"
      },
      "execution_count": 19,
      "outputs": []
    },
    {
      "cell_type": "markdown",
      "source": [
        "Evaluation"
      ],
      "metadata": {
        "id": "TEZmFMHm3xia"
      }
    },
    {
      "cell_type": "code",
      "source": [
        "print('Accuracy:', accuracy_score(y_test, y_pred_model2))\n",
        "print('F1 score:', f1_score(y_test, y_pred_model2, average=\"macro\"))\n",
        "print(classification_report(y_test, y_pred_model2))"
      ],
      "metadata": {
        "id": "Ca5uxWLCvkux",
        "colab": {
          "base_uri": "https://localhost:8080/"
        },
        "outputId": "847f32b3-647d-4dac-ac6d-bbf345949b52"
      },
      "execution_count": 20,
      "outputs": [
        {
          "output_type": "stream",
          "name": "stdout",
          "text": [
            "Accuracy: 0.7271241830065359\n",
            "F1 score: 0.5978357959352313\n",
            "              precision    recall  f1-score   support\n",
            "\n",
            "           0       0.80      0.85      0.83       465\n",
            "           1       0.42      0.33      0.37       147\n",
            "\n",
            "    accuracy                           0.73       612\n",
            "   macro avg       0.61      0.59      0.60       612\n",
            "weighted avg       0.71      0.73      0.72       612\n",
            "\n"
          ]
        }
      ]
    },
    {
      "cell_type": "code",
      "source": [
        "plot(y_test, y_pred_model2, labels=[\"neutral\", \"offensive\"], title=\"GaussianNB TF-IDF\")"
      ],
      "metadata": {
        "colab": {
          "base_uri": "https://localhost:8080/",
          "height": 472
        },
        "id": "aXfGL2vjvqh8",
        "outputId": "727ecbba-01d3-4a62-8185-f9d084863e9d"
      },
      "execution_count": 21,
      "outputs": [
        {
          "output_type": "display_data",
          "data": {
            "text/plain": [
              "<Figure size 640x480 with 2 Axes>"
            ],
            "image/png": "[encoded data removed]"
          },
          "metadata": {}
        }
      ]
    },
    {
      "cell_type": "code",
      "source": [],
      "metadata": {
        "id": "m1MYY0oCxvyx"
      },
      "execution_count": null,
      "outputs": []
    }
  ]
}