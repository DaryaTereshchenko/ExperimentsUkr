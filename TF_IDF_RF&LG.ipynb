{
  "nbformat": 4,
  "nbformat_minor": 0,
  "metadata": {
    "colab": {
      "private_outputs": true,
      "provenance": [],
      "mount_file_id": "1k1GKn1YBqSNQ0HpQMh84F4Byt3MB2guo",
      "authorship_tag": "ABX9TyPUZl1u/xgMXw1StEdfVWfK",
      "include_colab_link": true
    },
    "kernelspec": {
      "name": "python3",
      "display_name": "Python 3"
    },
    "language_info": {
      "name": "python"
    }
  },
  "cells": [
    {
      "cell_type": "markdown",
      "metadata": {
        "id": "view-in-github",
        "colab_type": "text"
      },
      "source": [
        "<a href=\"https://colab.research.google.com/github/DaryaTereshchenko/ExperimentsUkr/blob/main/TF_IDF_RF%26LG.ipynb\" target=\"_parent\"><img src=\"https://colab.research.google.com/assets/colab-badge.svg\" alt=\"Open In Colab\"/></a>"
      ]
    },
    {
      "cell_type": "code",
      "execution_count": null,
      "metadata": {
        "id": "tLwVAs1cGO2H"
      },
      "outputs": [],
      "source": [
        "from sklearn.feature_extraction.text import TfidfVectorizer\n",
        "from sklearn.linear_model import LogisticRegression\n",
        "from sklearn.model_selection import train_test_split\n",
        "from sklearn.metrics import accuracy_score\n",
        "from sklearn.metrics import classification_report\n",
        "from sklearn.metrics import f1_score\n",
        "import matplotlib.pyplot as plt\n",
        "from sklearn.metrics import ConfusionMatrixDisplay, confusion_matrix\n",
        "from sklearn.pipeline import make_pipeline\n",
        "from sklearn.model_selection import GridSearchCV\n",
        "import regex as re\n",
        "import pandas as pd\n",
        "import numpy as np"
      ]
    },
    {
      "cell_type": "code",
      "source": [
        "def plot(y_true, y_pred, labels=None, title=\"\", cmap=plt.cm.Blues):\n",
        "    con_mat_df = confusion_matrix(y_true, y_pred)\n",
        "    con_mat_df = con_mat_df.astype('float') / con_mat_df.sum(axis=1)[:, np.newaxis]\n",
        "    disp = ConfusionMatrixDisplay(confusion_matrix=con_mat_df, display_labels=labels)\n",
        "    disp.plot(cmap=cmap)\n",
        "    plt.title(title)"
      ],
      "metadata": {
        "id": "pd0Yoh5_GU9V"
      },
      "execution_count": null,
      "outputs": []
    },
    {
      "cell_type": "code",
      "source": [
        "df = pd.read_csv(\"/content/drive/MyDrive/AnnotatedFull.csv\")\n",
        "clean = df[\"tweet\"].apply(lambda x: re.sub(r'[^\\w\\s]', '', x).lower())"
      ],
      "metadata": {
        "id": "pdMRPhr0GaH7"
      },
      "execution_count": null,
      "outputs": []
    },
    {
      "cell_type": "code",
      "source": [
        "vec = TfidfVectorizer()\n",
        "tf_idf = vec.fit_transform(clean)"
      ],
      "metadata": {
        "id": "ePTirBMRGbhU"
      },
      "execution_count": null,
      "outputs": []
    },
    {
      "cell_type": "code",
      "source": [
        "X = tf_idf\n",
        "y = df.label\n",
        "\n",
        "X_train, X_test, y_train, y_test = train_test_split(X,y,\n",
        "                                   random_state=42, \n",
        "                                   test_size=0.3, \n",
        "                                   shuffle=True)"
      ],
      "metadata": {
        "id": "26WYYIRiGuzY"
      },
      "execution_count": null,
      "outputs": []
    },
    {
      "cell_type": "code",
      "source": [
        "def logistic_classif(X_train, y_train, X_test, y_test, c_value=1.0):\n",
        "    model = LogisticRegression(C=c_value, solver=\"lbfgs\").fit(X_train, y_train)\n",
        "    score = model.predict(X_test)\n",
        "    return score"
      ],
      "metadata": {
        "id": "CF5uVixAG0jG"
      },
      "execution_count": null,
      "outputs": []
    },
    {
      "cell_type": "code",
      "source": [
        "y_pred = logistic_classif(X_train, y_train, X_test, y_test)"
      ],
      "metadata": {
        "id": "CpJoV3GBJH4W"
      },
      "execution_count": null,
      "outputs": []
    },
    {
      "cell_type": "code",
      "source": [
        "print('Accuracy:', accuracy_score(y_test, y_pred))\n",
        "print('F1 score:', f1_score(y_test, y_pred, average=\"macro\"))\n",
        "print(classification_report(y_test, y_pred))"
      ],
      "metadata": {
        "id": "pxrFuY1FJVAF"
      },
      "execution_count": null,
      "outputs": []
    },
    {
      "cell_type": "code",
      "source": [
        "plot(y_test, y_pred, labels=[\"neutral\", \"offensive\"], title=\"TF-IDF Linear Regression\")"
      ],
      "metadata": {
        "id": "m93AXSPkJjfK"
      },
      "execution_count": null,
      "outputs": []
    },
    {
      "cell_type": "code",
      "source": [
        "param_grid_ = {'C': [1e-5, 1e-3, 1e-1, 1e0, 1e1, 1e2]}\n",
        "tfidf_search = GridSearchCV(LogisticRegression(), cv=3,\n",
        "                                   param_grid=param_grid_)"
      ],
      "metadata": {
        "id": "QNvcAxMBJ0uz"
      },
      "execution_count": null,
      "outputs": []
    },
    {
      "cell_type": "code",
      "source": [
        "tfidf_search.fit(X_train, y_train)"
      ],
      "metadata": {
        "id": "yRLhV2HLMNHn"
      },
      "execution_count": null,
      "outputs": []
    },
    {
      "cell_type": "code",
      "source": [
        "tfidf_search.best_score_"
      ],
      "metadata": {
        "id": "T5beWicdMhQo"
      },
      "execution_count": null,
      "outputs": []
    },
    {
      "cell_type": "code",
      "source": [
        "tfidf_search.best_params_"
      ],
      "metadata": {
        "id": "2cTJbF0eNVW5"
      },
      "execution_count": null,
      "outputs": []
    },
    {
      "cell_type": "code",
      "source": [
        "tfidf_search.cv_results_"
      ],
      "metadata": {
        "id": "iXsVM0VOM_8u"
      },
      "execution_count": null,
      "outputs": []
    },
    {
      "cell_type": "code",
      "source": [
        "search_results = pd.DataFrame.from_dict({'tfidf': tfidf_search.cv_results_['mean_test_score']})\n",
        "search_results"
      ],
      "metadata": {
        "id": "WvzXcm5LNLpe"
      },
      "execution_count": null,
      "outputs": []
    },
    {
      "cell_type": "code",
      "source": [
        "from sklearn.ensemble import RandomForestClassifier\n",
        "from sklearn.model_selection import RandomizedSearchCV"
      ],
      "metadata": {
        "id": "juRQKm5eNiU9"
      },
      "execution_count": null,
      "outputs": []
    },
    {
      "cell_type": "code",
      "source": [
        "# creating a RF classifier \n",
        "clf = RandomForestClassifier(n_estimators = 200, n_jobs=-1, random_state=42, max_features = 'auto', max_depth = 100)\n",
        "\n",
        "# Training the model on the training dataset\n",
        "# fir function is used to train the model using the training sets as parameters\n",
        "clf.fit(X_train, y_train)\n",
        "\n",
        "#performing predictions on the test dataset\n",
        "y_pred = clf.predict(X_test)\n",
        "print(clf.score(X_test, y_test))"
      ],
      "metadata": {
        "id": "rMl-DNSGOEdu"
      },
      "execution_count": null,
      "outputs": []
    },
    {
      "cell_type": "code",
      "source": [
        "print('Accuracy:', accuracy_score(y_test, y_pred))\n",
        "print('F1 score:', f1_score(y_test, y_pred, average=\"macro\"))\n",
        "print(classification_report(y_test, y_pred))"
      ],
      "metadata": {
        "id": "Q9zqBwRKOjyZ"
      },
      "execution_count": null,
      "outputs": []
    },
    {
      "cell_type": "code",
      "source": [
        "plot(y_test, y_pred, labels=[\"neutral\", \"offensive\"], title=\"TF-IDF RandomForest\")"
      ],
      "metadata": {
        "id": "i22SnII0Oye0"
      },
      "execution_count": null,
      "outputs": []
    },
    {
      "cell_type": "code",
      "source": [],
      "metadata": {
        "id": "vGuIElxgPcam"
      },
      "execution_count": null,
      "outputs": []
    }
  ]
}